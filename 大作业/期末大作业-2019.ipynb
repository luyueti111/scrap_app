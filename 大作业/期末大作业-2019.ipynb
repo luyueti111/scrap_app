{
 "cells": [
  {
   "cell_type": "markdown",
   "metadata": {},
   "source": [
    "<h1 align = \"center\">北京师范大学2019～2020学年第一学期期末大作业</h1>\n",
    "<h1 align = \"center\">（本科生）</h1>"
   ]
  },
  {
   "cell_type": "markdown",
   "metadata": {},
   "source": [
    "__课程名称：__<u> 交互式Python编程入门 </u>   &nbsp;&emsp;&emsp;&emsp; __任课教师姓名：__<u> 邓擎琼 </u>"
   ]
  },
  {
   "cell_type": "markdown",
   "metadata": {},
   "source": [
    "__总分__：<u> 30 </u>   "
   ]
  },
  {
   "cell_type": "markdown",
   "metadata": {},
   "source": [
    "__院 系：__<u> ************* </u> &nbsp;&emsp;&emsp;&emsp; __年级：__<u> ************* </u>"
   ]
  },
  {
   "cell_type": "markdown",
   "metadata": {},
   "source": [
    "__姓 名：__<u> ********** </u>   &nbsp;&emsp;&emsp;&emsp; __学 号：__<u> ************ </u>"
   ]
  },
  {
   "cell_type": "markdown",
   "metadata": {},
   "source": [
    "| 题号    |   第一题      |     第二题  |     第三题  |     第四题  |     总分  |\n",
    "|:--------|:---------:|:---------:|:---------:|:---------:|---------:|\n",
    "| 得分    |             |             |           |            |            |\n"
   ]
  },
  {
   "cell_type": "markdown",
   "metadata": {},
   "source": [
    "__阅卷教师（签字）：__<u> &emsp;&emsp;&emsp;&emsp;&emsp;&emsp;&emsp;&emsp;&emsp; &emsp;&emsp;&emsp;&emsp;</u>"
   ]
  },
  {
   "cell_type": "markdown",
   "metadata": {},
   "source": [
    "---"
   ]
  },
  {
   "cell_type": "markdown",
   "metadata": {
    "collapsed": true
   },
   "source": [
    "## 题目："
   ]
  },
  {
   "cell_type": "markdown",
   "metadata": {},
   "source": [
    "1. 读入北京师范大学头条关注数据（Reportsinfo.xlsx）； <font color='red'>分值：2</font>\n",
    "&emsp;&emsp;或者：从http://news.bnu.edu.cn/zx/ttgz/index.htm 网页中通过爬虫把上述数据爬下来，并保存为Excel文件； <font color='red'>分值：5</font>\n",
    "\n",
    "2. 根据浏览次数对头条关注报道进行逆序排序，对其中浏览次数最高的报道，爬取报道文字内容保存为一个txt文件，爬取其中的图片，保存在电脑里；   <font color='red'>分值：5</font>\n",
    "\n",
    "3. 对浏览次数最高的报道内容生成词云；    <font color='red'>分值：4</font>\n",
    "\n",
    "4. 采用柱状图显示每年的头条关注报道的总数量、以及每一年中每个月的头条关注报道的数量，设置横坐标和纵坐标轴标签、图的标题，如下图所示 。  <font color='red'>分值：6</font>\n",
    "![堆叠图](year.png)\n",
    "![堆叠图](month.png)\n",
    "\n",
    "5. 设计一个图形界面，采用图形界面的形式完成前4项任务，可参考下图 。  <font color='red'>分值：10</font>\n",
    "![堆叠图](头条报道图形界面.png)\n",
    "\n"
   ]
  },
  {
   "cell_type": "markdown",
   "metadata": {
    "collapsed": true
   },
   "source": [
    "## 承诺：\n",
    "\n",
    "这里写上你的不抄袭承诺！"
   ]
  },
  {
   "cell_type": "code",
   "execution_count": null,
   "metadata": {
    "collapsed": true
   },
   "outputs": [],
   "source": []
  }
 ],
 "metadata": {
  "kernelspec": {
   "display_name": "Python 3",
   "language": "python",
   "name": "python3"
  },
  "language_info": {
   "codemirror_mode": {
    "name": "ipython",
    "version": 3
   },
   "file_extension": ".py",
   "mimetype": "text/x-python",
   "name": "python",
   "nbconvert_exporter": "python",
   "pygments_lexer": "ipython3",
   "version": "3.6.5"
  }
 },
 "nbformat": 4,
 "nbformat_minor": 2
}
